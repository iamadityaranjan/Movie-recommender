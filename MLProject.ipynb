{
  "nbformat": 4,
  "nbformat_minor": 0,
  "metadata": {
    "colab": {
      "provenance": []
    },
    "kernelspec": {
      "name": "python3",
      "display_name": "Python 3"
    },
    "language_info": {
      "name": "python"
    }
  },
  "cells": [
    {
      "cell_type": "markdown",
      "source": [
        "# Movie Recommendation system"
      ],
      "metadata": {
        "id": "UW8u2NkmcRqb"
      }
    },
    {
      "cell_type": "code",
      "source": [
        "import numpy as np\n",
        "import pandas as pd\n",
        "\n",
        "# Importing the datasets\n",
        "moviesData = pd.read_csv('/content/tmdb_5000_movies.csv')\n",
        "creditsData = pd.read_csv('/content/tmdb_5000_credits.csv')\n",
        "moviesData.head(1)"
      ],
      "metadata": {
        "id": "Hc6vhwREcYET"
      },
      "execution_count": null,
      "outputs": []
    },
    {
      "cell_type": "code",
      "source": [
        "# Merging the dataset based on the title.\n",
        "moviesData = moviesData.merge(credits,on = \"title\")\n",
        "moviesData.head(1)"
      ],
      "metadata": {
        "id": "01Xb2Ghida0U"
      },
      "execution_count": null,
      "outputs": []
    },
    {
      "cell_type": "code",
      "source": [
        "moviesData.head(1)"
      ],
      "metadata": {
        "id": "Mbd4JP0VgCqT"
      },
      "execution_count": null,
      "outputs": []
    },
    {
      "cell_type": "code",
      "source": [
        "# Using the only columns which are required for our predictions\n",
        "# genres\n",
        "# id\n",
        "# keywords\n",
        "# title\n",
        "# overview\n",
        "# cast\n",
        "# crew\n",
        "\n",
        "moviesData = moviesData[['movie_id','title','genres','keywords','overview','cast','crew']]"
      ],
      "metadata": {
        "id": "dRAqppgnd0dj"
      },
      "execution_count": 36,
      "outputs": []
    },
    {
      "cell_type": "code",
      "source": [
        "moviesData.head(1)"
      ],
      "metadata": {
        "id": "Dw5K4MTVicF8"
      },
      "execution_count": null,
      "outputs": []
    },
    {
      "cell_type": "code",
      "source": [
        "import ast\n",
        "\n",
        "def convert(text):\n",
        "  L = []\n",
        "  for i in ast.literal_eval(text):\n",
        "    L.append(i['name'])\n",
        "  return L\n"
      ],
      "metadata": {
        "id": "DbCNij0LqCWE"
      },
      "execution_count": 38,
      "outputs": []
    },
    {
      "cell_type": "code",
      "source": [
        "moviesData.dropna(inplace = True)\n"
      ],
      "metadata": {
        "id": "VeLzZVSKqmis"
      },
      "execution_count": 39,
      "outputs": []
    },
    {
      "cell_type": "code",
      "source": [
        "moviesData['genres'] = moviesData['genres'].apply(convert)"
      ],
      "metadata": {
        "id": "E5unlACQqufc"
      },
      "execution_count": 42,
      "outputs": []
    },
    {
      "cell_type": "code",
      "source": [
        "moviesData.head(1)"
      ],
      "metadata": {
        "id": "2Rg077u-rPA0"
      },
      "execution_count": null,
      "outputs": []
    },
    {
      "cell_type": "code",
      "source": [
        "moviesData['keywords'] = moviesData['keywords'].apply(convert)\n",
        "moviesData.head(1)"
      ],
      "metadata": {
        "id": "tSVdnsl2tr3E"
      },
      "execution_count": null,
      "outputs": []
    },
    {
      "cell_type": "code",
      "source": [
        "# cast Convert\n",
        "def cast_convert(text):\n",
        "  L = []\n",
        "  counter = 0\n",
        "  for i in ast.literal_eval(text):\n",
        "    if counter < 3:\n",
        "      L.append(i['name'])\n",
        "    counter += 1\n",
        "  return L"
      ],
      "metadata": {
        "id": "HRk_Ks3muGwc"
      },
      "execution_count": 46,
      "outputs": []
    },
    {
      "cell_type": "code",
      "source": [
        "moviesData['cast'] = moviesData['cast'].apply(cast_convert)\n",
        "moviesData.head(1)"
      ],
      "metadata": {
        "id": "R0ZJ5ZwfuXl8"
      },
      "execution_count": null,
      "outputs": []
    },
    {
      "cell_type": "code",
      "source": [
        "moviesData['cast'] = moviesData['cast'].apply(lambda x:x[0:3])"
      ],
      "metadata": {
        "id": "qZM4ZWlhurGs"
      },
      "execution_count": 48,
      "outputs": []
    },
    {
      "cell_type": "code",
      "source": [
        "# fetch director\n",
        "def fectch_director(text):\n",
        "  L = []\n",
        "  for i in ast.literal_eval(text):\n",
        "    if i['job'] == 'Director':\n",
        "      L.append(i['name'])\n",
        "  return L\n",
        "\n"
      ],
      "metadata": {
        "id": "1Elek70uuhWs"
      },
      "execution_count": 49,
      "outputs": []
    },
    {
      "cell_type": "code",
      "source": [
        "moviesData['crew'] = moviesData['crew'].apply(fectch_director)"
      ],
      "metadata": {
        "id": "Q5vVKgTCu52M"
      },
      "execution_count": 50,
      "outputs": []
    },
    {
      "cell_type": "code",
      "source": [
        "moviesData.head(1)"
      ],
      "metadata": {
        "id": "t3UiXdLcvI01"
      },
      "execution_count": null,
      "outputs": []
    },
    {
      "cell_type": "code",
      "source": [
        "moviesData['overview'] = moviesData['overview'].apply(lambda x:x.split())\n",
        "moviesData.sample(5)"
      ],
      "metadata": {
        "id": "rc2PrspYvyjk"
      },
      "execution_count": null,
      "outputs": []
    },
    {
      "cell_type": "code",
      "source": [
        "# function to remove the spaces to prevent confusion for the model\n",
        "\n",
        "def remove_space(L):\n",
        "  l1 = []\n",
        "  for i in L:\n",
        "    l1.append(i.replace(\" \",\"\"))\n",
        "  return l1\n"
      ],
      "metadata": {
        "id": "rMNh6u1bwFNk"
      },
      "execution_count": 54,
      "outputs": []
    },
    {
      "cell_type": "code",
      "source": [
        "moviesData['cast'] = moviesData['cast'].apply(remove_space)\n",
        "moviesData['crew'] = moviesData['crew'].apply(remove_space)\n",
        "moviesData['genres'] = moviesData['genres'].apply(remove_space)\n",
        "moviesData['keywords'] = moviesData['keywords'].apply(remove_space)"
      ],
      "metadata": {
        "id": "FDACJ-i-wT2E"
      },
      "execution_count": 55,
      "outputs": []
    },
    {
      "cell_type": "code",
      "source": [
        "moviesData.head(1)"
      ],
      "metadata": {
        "id": "h_tWomWOwjj2"
      },
      "execution_count": null,
      "outputs": []
    },
    {
      "cell_type": "code",
      "source": [
        "moviesData['tags'] = moviesData['overview'] + moviesData['genres'] + moviesData['keywords'] + moviesData['cast'] + moviesData['crew']\n"
      ],
      "metadata": {
        "id": "X9ZTb55_xbOs"
      },
      "execution_count": 58,
      "outputs": []
    },
    {
      "cell_type": "code",
      "source": [
        "new_df = moviesData[['movie_id','title','tags']]"
      ],
      "metadata": {
        "id": "tN7hdV0NyKxV"
      },
      "execution_count": 60,
      "outputs": []
    },
    {
      "cell_type": "code",
      "source": [
        "new_df['tags'] = new_df['tags'].apply(lambda x:\" \".join(x))"
      ],
      "metadata": {
        "id": "6hcx-8nlyYw9"
      },
      "execution_count": 63,
      "outputs": []
    },
    {
      "cell_type": "code",
      "source": [
        "new_df['tags'] = new_df['tags'].apply(lambda x:x.lower())"
      ],
      "metadata": {
        "id": "_-ybnMpmyuXt"
      },
      "execution_count": 66,
      "outputs": []
    },
    {
      "cell_type": "code",
      "source": [
        "new_df.head(1)"
      ],
      "metadata": {
        "id": "-p4lB5oXz7Xt"
      },
      "execution_count": null,
      "outputs": []
    },
    {
      "cell_type": "code",
      "source": [
        "from sklearn.feature_extraction.text import CountVectorizer\n",
        "cv = CountVectorizer(max_features=5000,stop_words='english')\n",
        ""
      ],
      "metadata": {
        "id": "OzraZZhX5aEd"
      },
      "execution_count": 68,
      "outputs": []
    },
    {
      "cell_type": "code",
      "source": [
        "vector = cv.fit_transform(new_df['tags']).toarray()"
      ],
      "metadata": {
        "id": "c_Zb8hRo7mz2"
      },
      "execution_count": 69,
      "outputs": []
    },
    {
      "cell_type": "code",
      "source": [
        "vector.shape"
      ],
      "metadata": {
        "colab": {
          "base_uri": "https://localhost:8080/"
        },
        "id": "84GCmJzE7rk9",
        "outputId": "9d815224-9230-4351-a86d-e2d5414181fe"
      },
      "execution_count": 70,
      "outputs": [
        {
          "output_type": "execute_result",
          "data": {
            "text/plain": [
              "(4806, 5000)"
            ]
          },
          "metadata": {},
          "execution_count": 70
        }
      ]
    },
    {
      "cell_type": "code",
      "source": [
        "from sklearn.metrics.pairwise import cosine_similarity"
      ],
      "metadata": {
        "id": "tY7kqgda7tZN"
      },
      "execution_count": 71,
      "outputs": []
    },
    {
      "cell_type": "code",
      "source": [
        "similarity = cosine_similarity(vector)"
      ],
      "metadata": {
        "id": "poiULuCJ7yr2"
      },
      "execution_count": 72,
      "outputs": []
    },
    {
      "cell_type": "code",
      "source": [
        "new_df[new_df['title'] == 'The Lego Movie'].index[0]"
      ],
      "metadata": {
        "colab": {
          "base_uri": "https://localhost:8080/"
        },
        "id": "vSSQ6E1A72Tt",
        "outputId": "355ac6d6-6804-42f2-f018-c51fe73eeb58"
      },
      "execution_count": 74,
      "outputs": [
        {
          "output_type": "execute_result",
          "data": {
            "text/plain": [
              "np.int64(744)"
            ]
          },
          "metadata": {},
          "execution_count": 74
        }
      ]
    },
    {
      "cell_type": "code",
      "source": [
        "# Function to Recommend movies\n",
        "\n",
        "def recommend(movie):\n",
        "    index = new_df[new_df['title'] == movie].index[0]\n",
        "    distances = sorted(list(enumerate(similarity[index])),reverse=True,key = lambda x: x[1])\n",
        "    for i in distances[1:6]:\n",
        "        print(new_df.iloc[i[0]].title)\n",
        ""
      ],
      "metadata": {
        "id": "SCYOAyt_8AMd"
      },
      "execution_count": 75,
      "outputs": []
    },
    {
      "cell_type": "code",
      "source": [
        "recommend('Titanic')"
      ],
      "metadata": {
        "colab": {
          "base_uri": "https://localhost:8080/"
        },
        "id": "jZEiOBof8MnN",
        "outputId": "4ff3a6dd-758b-4000-d998-cf342c9773a6"
      },
      "execution_count": 79,
      "outputs": [
        {
          "output_type": "stream",
          "name": "stdout",
          "text": [
            "Captain Phillips\n",
            "The Notebook\n",
            "In the Heart of the Sea\n",
            "Ghost Ship\n",
            "Poseidon\n"
          ]
        }
      ]
    },
    {
      "cell_type": "code",
      "source": [
        "import pickle\n",
        "\n",
        "pickle.dump(new_df.to_dict(),open('movie_dict.pkl','wb'))"
      ],
      "metadata": {
        "id": "YGYyi1Qx8XBl"
      },
      "execution_count": 81,
      "outputs": []
    },
    {
      "cell_type": "code",
      "source": [
        "pickle.dump(similarity,open('similarity.pkl','wb'))\n"
      ],
      "metadata": {
        "id": "OZsUULFjCfR-"
      },
      "execution_count": 82,
      "outputs": []
    }
  ]
}